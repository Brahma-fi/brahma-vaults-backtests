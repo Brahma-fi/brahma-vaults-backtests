{
 "cells": [
  {
   "cell_type": "markdown",
   "metadata": {},
   "source": [
    "# ETH Maxi DegenVault Backtest"
   ]
  },
  {
   "cell_type": "markdown",
   "metadata": {},
   "source": [
    "##  Strategy  Idea:\n",
    "\n",
    "Similarly to PMUDSC vaults ETH Maxi DegenVault also ims to take advantage of highly volatile nature of crypto assets which presents significant trading opportunities.\n",
    "\n",
    "Let’s begin by outlining the high-level strategy of the vault:\n",
    "\n",
    "Single-side deposits are accepted in ETH.\n",
    "The vault supplies this ETH to the highest yielding Curve pool and LP tokens are staked on Convex (stETH/ETH - more details below).\n",
    "At the end of every week, all accrued yield is harvested and converted to ETH.\n",
    "The yield is bridged to Optimism and used to take a leveraged bet on crypto prices.\n",
    "1 week ATM options are purchased on Lyra Finance or Perpetual Protocol.\n",
    "Any trading profits at the end of the week are converted back to ETH, bridged back to mainnet and compounded into the strategy.\n",
    "\n",
    "The current architecture allows the vault to be able to deploy the weekly yield to either Perpetual Protocol to open a perpetual future position or to Lyra to purchase an option. The dual integration to these derivative platforms allows the construction of a more adaptive and dynamic weekly derivative trading strategy. Trading returns are maximised and return stability improved by using the yield to open a trade with the derivative instrument that is best suited to the current market regime. Strategy also employs volatility regime tracking, adjusting the position if one of volatility-based triggers is activated.\n",
    "\n",
    "The end result is boosted ETH returns achieved with the help of systematic trading strategy that aims to provide returns through all market regimes - leaving you comfy and moisturised in your lane. \n",
    "\n",
    "|                                \t| Parameter value \t|\n",
    "|--------------------------------\t|-----------------\t|\n",
    "| __Trade frequency__            \t| 7 days          \t|\n",
    "| __Trade leverage__             \t| 10              \t|\n",
    "| __Absolute signal confidence__ \t| 5               \t|\n",
    "| __Base Pool__                 \t| https://curve.fi/#/ethereum/pools/steth/swap |"
   ]
  },
  {
   "cell_type": "markdown",
   "metadata": {},
   "source": [
    "## Implementation\n",
    "\n",
    "### Imports"
   ]
  },
  {
   "cell_type": "code",
   "execution_count": 1,
   "metadata": {},
   "outputs": [],
   "source": [
    "# General modules import\n",
    "import time\n",
    "import numpy as np\n",
    "import pandas as pd\n",
    "import seaborn as sns\n",
    "import matplotlib.pyplot as plt\n",
    "from scipy.stats import norm\n",
    "from datetime import datetime,timedelta,timezone\n",
    "\n",
    "sns.set(palette='deep')\n",
    "%matplotlib inline"
   ]
  },
  {
   "cell_type": "code",
   "execution_count": 2,
   "metadata": {},
   "outputs": [],
   "source": [
    "# Brahma modules imports\n",
    "import sys\n",
    "sys.path.append(\"../../\")\n",
    "from modules.defibulizer.offchain_defibulizer import DeFibulizer\n",
    "from modules.backtesting.option_backtest import OptionBacktest\n",
    "from modules.util.data_helpers import group_historical_data\n",
    "from modules.util.backtest_helpers import ts_signal_prep, get_str_date\n",
    "from modules.constants.ethmaxi_const import PARAMS as pr"
   ]
  },
  {
   "cell_type": "markdown",
   "metadata": {},
   "source": [
    "### Downloading the hourly data\n",
    "\n",
    "For this backtest we gather 1year of historical data consisting of:\n",
    " * Hourly history of Deribit's Volatility Index: ETH DVOL\n",
    " * Price history data for ETH\n",
    " * 1-week at-the-money ETH implied volatility data from Deribit is procured automaticly by the backtest module\n"
   ]
  },
  {
   "cell_type": "code",
   "execution_count": 3,
   "metadata": {},
   "outputs": [],
   "source": [
    "dt = DeFibulizer()\n",
    "\n",
    "start_date = datetime(2021,7,30,8,tzinfo=timezone.utc)\n",
    "end_date = datetime(2022,10,28,8,tzinfo=timezone.utc)\n",
    "\n",
    "# Downloading the raw data\n",
    "raw_data = dt.get_data(['ETHUSDT-PERP','ETH-DVOL'], start_date, end_date, frequency='h')\n",
    "raw_data.index = pd.to_datetime(raw_data.index)\n",
    "\n",
    "# Preprocessing only the needed columns for the backtest\n",
    "hourly_prices = raw_data['ETHUSDT-PERP'][['open','high','low','close']]\n",
    "hourly_dvol = raw_data['ETH-DVOL'][['open','close']].rename(columns={'open':'dvol_open','close':'dvol_close'}) / 100\n",
    "\n",
    "# Getting the str date formats for file navigation\n",
    "start_date_str = get_str_date(start_date)\n",
    "end_date_str = get_str_date(end_date)"
   ]
  },
  {
   "cell_type": "markdown",
   "metadata": {},
   "source": [
    "### Establishing the Hyperparameters"
   ]
  },
  {
   "cell_type": "markdown",
   "metadata": {},
   "source": [
    "First we are going to set up all of the backtest hyperparameters:"
   ]
  },
  {
   "cell_type": "code",
   "execution_count": 4,
   "metadata": {},
   "outputs": [],
   "source": [
    "#General Parameters\n",
    "\n",
    "base_yield = pr['base_yield'] # Deposit yield\n",
    "trade_freq = pr['trade_freq'] # Interest harvest and trade frequency (days)\n",
    "is_usd = pr['is_usd'] # Whether the asset conversion is occuring in the strategy\n",
    "historical_vol = pr['historical_vol'] # Whether to use historical vol provided by Deribit API"
   ]
  },
  {
   "cell_type": "code",
   "execution_count": 5,
   "metadata": {},
   "outputs": [],
   "source": [
    "# Signal Parameters\n",
    "\n",
    "short_window = pr['short_window'] \n",
    "long_window = pr['long_window']\n",
    "confidence = pr['confidence']"
   ]
  },
  {
   "cell_type": "code",
   "execution_count": 6,
   "metadata": {},
   "outputs": [],
   "source": [
    "# Option Parameters\n",
    "\n",
    "option_rate = pr['option_rate']\n",
    "strike_rounding = pr['strike_rounding']\n",
    "otm_percentage = pr['otm_percentage'] # % OTM of strike to buy/sell\n",
    "bid_offer_spread = pr['bid_offer_spread'] "
   ]
  },
  {
   "cell_type": "code",
   "execution_count": 7,
   "metadata": {},
   "outputs": [],
   "source": [
    "# Volatility Parameters\n",
    "\n",
    "volatility_bounds = {'rv_start': pr['rv_start'], 'dvol_open': pr['dvol_open'],\n",
    "                     'sigma_open': pr['sigma_open'], 'dvol_premium': pr['dvol_premium']}"
   ]
  },
  {
   "cell_type": "markdown",
   "metadata": {},
   "source": [
    "Next we will construct a TS position signal based on the given hyperparameters"
   ]
  },
  {
   "cell_type": "code",
   "execution_count": 8,
   "metadata": {},
   "outputs": [],
   "source": [
    "tr_scan_labels_short = pd.read_csv(f'ts_data/ts_{short_window}_{start_date_str}_{end_date_str}_open.csv').set_index('time')\n",
    "tr_scan_labels_long = pd.read_csv(f'ts_data/ts_{long_window}_{start_date_str}_{end_date_str}_open.csv').set_index('time')"
   ]
  },
  {
   "cell_type": "code",
   "execution_count": 9,
   "metadata": {},
   "outputs": [],
   "source": [
    "positions = ts_signal_prep(tr_scan_labels_short, tr_scan_labels_long, confidence)"
   ]
  },
  {
   "cell_type": "markdown",
   "metadata": {},
   "source": [
    "### Running The Backtest"
   ]
  },
  {
   "cell_type": "code",
   "execution_count": 10,
   "metadata": {},
   "outputs": [],
   "source": [
    "backtest = OptionBacktest(price_data=hourly_prices, \n",
    "                          position_data=positions, rate=base_yield,\n",
    "                          option_rate=option_rate, bid_offer_spread=bid_offer_spread,\n",
    "                          trade_freq=trade_freq, strike_otm=0, \n",
    "                          volatility_bounds=volatility_bounds,\n",
    "                          strike_rounding=strike_rounding, is_usd=True,\n",
    "                          dvol_data=hourly_dvol, historical_vol=True)"
   ]
  },
  {
   "cell_type": "markdown",
   "metadata": {},
   "source": [
    "Backtest results record every valuable parameter for further reseach during each epoch."
   ]
  },
  {
   "cell_type": "code",
   "execution_count": 11,
   "metadata": {},
   "outputs": [
    {
     "data": {
      "text/html": [
       "<div>\n",
       "<style scoped>\n",
       "    .dataframe tbody tr th:only-of-type {\n",
       "        vertical-align: middle;\n",
       "    }\n",
       "\n",
       "    .dataframe tbody tr th {\n",
       "        vertical-align: top;\n",
       "    }\n",
       "\n",
       "    .dataframe thead th {\n",
       "        text-align: right;\n",
       "    }\n",
       "</style>\n",
       "<table border=\"1\" class=\"dataframe\">\n",
       "  <thead>\n",
       "    <tr style=\"text-align: right;\">\n",
       "      <th></th>\n",
       "      <th>position_open_time</th>\n",
       "      <th>position_close_time</th>\n",
       "      <th>open</th>\n",
       "      <th>close</th>\n",
       "      <th>high</th>\n",
       "      <th>low</th>\n",
       "      <th>position</th>\n",
       "      <th>rv_start</th>\n",
       "      <th>rv_end</th>\n",
       "      <th>dvol_open</th>\n",
       "      <th>...</th>\n",
       "      <th>put_payoff</th>\n",
       "      <th>option_price</th>\n",
       "      <th>option_payoff</th>\n",
       "      <th>position_return</th>\n",
       "      <th>vault_balance_start</th>\n",
       "      <th>vault_balance_end</th>\n",
       "      <th>invested_yield</th>\n",
       "      <th>trade_profit</th>\n",
       "      <th>benchmark</th>\n",
       "      <th>transaction_fee</th>\n",
       "    </tr>\n",
       "    <tr>\n",
       "      <th>time</th>\n",
       "      <th></th>\n",
       "      <th></th>\n",
       "      <th></th>\n",
       "      <th></th>\n",
       "      <th></th>\n",
       "      <th></th>\n",
       "      <th></th>\n",
       "      <th></th>\n",
       "      <th></th>\n",
       "      <th></th>\n",
       "      <th></th>\n",
       "      <th></th>\n",
       "      <th></th>\n",
       "      <th></th>\n",
       "      <th></th>\n",
       "      <th></th>\n",
       "      <th></th>\n",
       "      <th></th>\n",
       "      <th></th>\n",
       "      <th></th>\n",
       "      <th></th>\n",
       "    </tr>\n",
       "  </thead>\n",
       "  <tbody>\n",
       "    <tr>\n",
       "      <th>2022-10-28 08:00:00+00:00</th>\n",
       "      <td>2022-10-21 08:00:00+00:00</td>\n",
       "      <td>2022-10-28 08:00:00+00:00</td>\n",
       "      <td>1284.16</td>\n",
       "      <td>1493.22</td>\n",
       "      <td>1595.0</td>\n",
       "      <td>1248.0</td>\n",
       "      <td>-1</td>\n",
       "      <td>0.386714</td>\n",
       "      <td>0.71093</td>\n",
       "      <td>0.7567</td>\n",
       "      <td>...</td>\n",
       "      <td>0.0</td>\n",
       "      <td>46.133618</td>\n",
       "      <td>0.0</td>\n",
       "      <td>-1.0</td>\n",
       "      <td>1.097282</td>\n",
       "      <td>1.097282</td>\n",
       "      <td>0.001157</td>\n",
       "      <td>-0.001157</td>\n",
       "      <td>1.0698</td>\n",
       "      <td>0.0</td>\n",
       "    </tr>\n",
       "  </tbody>\n",
       "</table>\n",
       "<p>1 rows × 29 columns</p>\n",
       "</div>"
      ],
      "text/plain": [
       "                                 position_open_time       position_close_time  \\\n",
       "time                                                                            \n",
       "2022-10-28 08:00:00+00:00 2022-10-21 08:00:00+00:00 2022-10-28 08:00:00+00:00   \n",
       "\n",
       "                              open    close    high     low  position  \\\n",
       "time                                                                    \n",
       "2022-10-28 08:00:00+00:00  1284.16  1493.22  1595.0  1248.0        -1   \n",
       "\n",
       "                           rv_start   rv_end  dvol_open  ...  put_payoff  \\\n",
       "time                                                     ...               \n",
       "2022-10-28 08:00:00+00:00  0.386714  0.71093     0.7567  ...         0.0   \n",
       "\n",
       "                           option_price  option_payoff  position_return  \\\n",
       "time                                                                      \n",
       "2022-10-28 08:00:00+00:00     46.133618            0.0             -1.0   \n",
       "\n",
       "                           vault_balance_start  vault_balance_end  \\\n",
       "time                                                                \n",
       "2022-10-28 08:00:00+00:00             1.097282           1.097282   \n",
       "\n",
       "                           invested_yield  trade_profit  benchmark  \\\n",
       "time                                                                 \n",
       "2022-10-28 08:00:00+00:00        0.001157     -0.001157     1.0698   \n",
       "\n",
       "                           transaction_fee  \n",
       "time                                        \n",
       "2022-10-28 08:00:00+00:00              0.0  \n",
       "\n",
       "[1 rows x 29 columns]"
      ]
     },
     "execution_count": 11,
     "metadata": {},
     "output_type": "execute_result"
    }
   ],
   "source": [
    "backtest.backtest_results.tail(1)"
   ]
  },
  {
   "cell_type": "markdown",
   "metadata": {},
   "source": [
    "### Backtest Metrics"
   ]
  },
  {
   "cell_type": "markdown",
   "metadata": {},
   "source": [
    "Strategy metrics:"
   ]
  },
  {
   "cell_type": "code",
   "execution_count": 12,
   "metadata": {},
   "outputs": [
    {
     "data": {
      "text/html": [
       "<div>\n",
       "<style scoped>\n",
       "    .dataframe tbody tr th:only-of-type {\n",
       "        vertical-align: middle;\n",
       "    }\n",
       "\n",
       "    .dataframe tbody tr th {\n",
       "        vertical-align: top;\n",
       "    }\n",
       "\n",
       "    .dataframe thead th {\n",
       "        text-align: right;\n",
       "    }\n",
       "</style>\n",
       "<table border=\"1\" class=\"dataframe\">\n",
       "  <thead>\n",
       "    <tr style=\"text-align: right;\">\n",
       "      <th></th>\n",
       "      <th>0</th>\n",
       "    </tr>\n",
       "  </thead>\n",
       "  <tbody>\n",
       "    <tr>\n",
       "      <th>Strategy Yield</th>\n",
       "      <td>9.728240</td>\n",
       "    </tr>\n",
       "    <tr>\n",
       "      <th>Strategy APY</th>\n",
       "      <td>7.904195</td>\n",
       "    </tr>\n",
       "    <tr>\n",
       "      <th>Benchmark APY</th>\n",
       "      <td>5.671211</td>\n",
       "    </tr>\n",
       "    <tr>\n",
       "      <th>Trading Boost</th>\n",
       "      <td>1.393740</td>\n",
       "    </tr>\n",
       "    <tr>\n",
       "      <th>Sharpe Ratio</th>\n",
       "      <td>5.745749</td>\n",
       "    </tr>\n",
       "    <tr>\n",
       "      <th>Max Drawdown</th>\n",
       "      <td>0.000000</td>\n",
       "    </tr>\n",
       "  </tbody>\n",
       "</table>\n",
       "</div>"
      ],
      "text/plain": [
       "                       0\n",
       "Strategy Yield  9.728240\n",
       "Strategy APY    7.904195\n",
       "Benchmark APY   5.671211\n",
       "Trading Boost   1.393740\n",
       "Sharpe Ratio    5.745749\n",
       "Max Drawdown    0.000000"
      ]
     },
     "execution_count": 12,
     "metadata": {},
     "output_type": "execute_result"
    }
   ],
   "source": [
    "backtest.strategy_metrics"
   ]
  },
  {
   "cell_type": "markdown",
   "metadata": {},
   "source": [
    "Signal metrics:"
   ]
  },
  {
   "cell_type": "code",
   "execution_count": 13,
   "metadata": {},
   "outputs": [
    {
     "data": {
      "text/html": [
       "<div>\n",
       "<style scoped>\n",
       "    .dataframe tbody tr th:only-of-type {\n",
       "        vertical-align: middle;\n",
       "    }\n",
       "\n",
       "    .dataframe tbody tr th {\n",
       "        vertical-align: top;\n",
       "    }\n",
       "\n",
       "    .dataframe thead th {\n",
       "        text-align: right;\n",
       "    }\n",
       "</style>\n",
       "<table border=\"1\" class=\"dataframe\">\n",
       "  <thead>\n",
       "    <tr style=\"text-align: right;\">\n",
       "      <th></th>\n",
       "      <th>0</th>\n",
       "    </tr>\n",
       "  </thead>\n",
       "  <tbody>\n",
       "    <tr>\n",
       "      <th>Epochs</th>\n",
       "      <td>65.000000</td>\n",
       "    </tr>\n",
       "    <tr>\n",
       "      <th>% Trades</th>\n",
       "      <td>0.738462</td>\n",
       "    </tr>\n",
       "    <tr>\n",
       "      <th>% Longs</th>\n",
       "      <td>0.562500</td>\n",
       "    </tr>\n",
       "    <tr>\n",
       "      <th>% Shorts</th>\n",
       "      <td>0.437500</td>\n",
       "    </tr>\n",
       "    <tr>\n",
       "      <th>Trade Hit Rate %</th>\n",
       "      <td>0.437500</td>\n",
       "    </tr>\n",
       "    <tr>\n",
       "      <th>Signal Hit Rate %</th>\n",
       "      <td>0.604167</td>\n",
       "    </tr>\n",
       "  </tbody>\n",
       "</table>\n",
       "</div>"
      ],
      "text/plain": [
       "                           0\n",
       "Epochs             65.000000\n",
       "% Trades            0.738462\n",
       "% Longs             0.562500\n",
       "% Shorts            0.437500\n",
       "Trade Hit Rate %    0.437500\n",
       "Signal Hit Rate %   0.604167"
      ]
     },
     "execution_count": 13,
     "metadata": {},
     "output_type": "execute_result"
    }
   ],
   "source": [
    "backtest.signal_metrics"
   ]
  },
  {
   "cell_type": "markdown",
   "metadata": {},
   "source": [
    "### __Backtest Performance Visualisation__"
   ]
  },
  {
   "cell_type": "code",
   "execution_count": 14,
   "metadata": {},
   "outputs": [
    {
     "data": {
      "image/png": "[encoded data removed]",
      "text/plain": [
       "<Figure size 1080x864 with 2 Axes>"
      ]
     },
     "metadata": {
      "needs_background": "light"
     },
     "output_type": "display_data"
    }
   ],
   "source": [
    "fig, axs = plt.subplots(2, 1, gridspec_kw={'height_ratios': [3, 2]}, sharex=True);\n",
    "\n",
    "backtest.backtest_results.vault_balance_end.plot(figsize = (15,12), ax=axs[0], title='Strategy Performance', legend = True, color='green');\n",
    "backtest.backtest_results.benchmark.plot(figsize = (15,12), ax=axs[0], legend = True, color='#9654F4');\n",
    "axs[0].legend(['PMUSDC V2', 'Benchmark']);\n",
    "backtest.backtest_results.close.plot(ax=axs[1], title='$ETH Price', legend=False, color='#27CEAF');"
   ]
  },
  {
   "cell_type": "markdown",
   "metadata": {},
   "source": [
    "### Volatility analysis plot"
   ]
  },
  {
   "cell_type": "code",
   "execution_count": 15,
   "metadata": {
    "jupyter": {
     "source_hidden": true
    }
   },
   "outputs": [
    {
     "data": {
      "image/png": "[encoded data removed]",
      "text/plain": [
       "<Figure size 1728x720 with 4 Axes>"
      ]
     },
     "metadata": {
      "needs_background": "light"
     },
     "output_type": "display_data"
    }
   ],
   "source": [
    "fig, axes = plt.subplots(nrows=2, ncols=2, figsize=(24,10))\n",
    "\n",
    "# Plotting the absolute price move against the option buying strategy returns\n",
    "# sns.scatterplot(x=abs(weekly_data.price_change), y=lyra_eth.optionReturns, ax=axes[0,0]);\n",
    "# axes[0,0].set_xlabel('Abs Price Move');\n",
    "# axes[0,0].set_ylabel('OptionBuying Returns');\n",
    "sns.scatterplot(x=backtest.backtest_results.sigma_open, y=backtest.backtest_results.position_return.loc[backtest.backtest_results.position_return!=0], ax=axes[0,0]);\n",
    "axes[0,0].set_xlabel('Implied Volatility (IV)');\n",
    "axes[0,0].set_ylabel('OptionBuying Returns');\n",
    "\n",
    "\n",
    "# Plotting the Implied Volatility (IV) against the option buying strategy returns\n",
    "sns.scatterplot(x=backtest.backtest_results.rv_start, y=backtest.backtest_results.position_return.loc[backtest.backtest_results.position_return!=0], ax=axes[0,1]);\n",
    "axes[0,1].set_xlabel('Realised Volatility (IV)');\n",
    "axes[0,1].set_ylabel('OptionBuying Returns');\n",
    "\n",
    "# Plotting the DVOL-RV against the option buying strategy returns\n",
    "sns.scatterplot(x=backtest.backtest_results.dvol_open, y=backtest.backtest_results.position_return.loc[backtest.backtest_results.position_return!=0], ax=axes[1,0]);\n",
    "axes[1,0].set_xlabel('DVOL');\n",
    "axes[1,0].set_ylabel('OptionBuying Returns');\n",
    "\n",
    "# Plotting the DVOL-RV against the enhanced perp strategy returns\n",
    "sns.scatterplot(x=backtest.backtest_results.dvol_premium, y=backtest.backtest_results.position_return.loc[backtest.backtest_results.position_return!=0], ax=axes[1,1]);\n",
    "axes[1,1].set_xlabel('DVOL premium');\n",
    "axes[1,1].set_ylabel('OptionBuying Returns');"
   ]
  }
 ],
 "metadata": {
  "kernelspec": {
   "display_name": "brahma3.8",
   "language": "python",
   "name": "brahma3.8"
  },
  "language_info": {
   "codemirror_mode": {
    "name": "ipython",
    "version": 3
   },
   "file_extension": ".py",
   "mimetype": "text/x-python",
   "name": "python",
   "nbconvert_exporter": "python",
   "pygments_lexer": "ipython3",
   "version": "3.8.0"
  }
 },
 "nbformat": 4,
 "nbformat_minor": 5
}
